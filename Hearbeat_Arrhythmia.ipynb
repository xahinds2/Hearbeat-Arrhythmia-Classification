{
  "cells": [
    {
      "cell_type": "markdown",
      "metadata": {
        "id": "view-in-github",
        "colab_type": "text"
      },
      "source": [
        "<a href=\"https://colab.research.google.com/github/xahinds2/MachineLearning/blob/main/Hearbeat_Arrhythmia.ipynb\" target=\"_parent\"><img src=\"https://colab.research.google.com/assets/colab-badge.svg\" alt=\"Open In Colab\"/></a>"
      ]
    },
    {
      "cell_type": "code",
      "execution_count": 1,
      "metadata": {
        "id": "aKERh4tZQCAs"
      },
      "outputs": [],
      "source": [
        "import numpy as np\n",
        "import pandas as pd\n",
        "import seaborn as sns\n",
        "import matplotlib.pyplot as plt"
      ]
    },
    {
      "cell_type": "code",
      "source": [
        "## i have already copied the datasets in my gdrive for less effort\n",
        "## u can download and upload it from local storage or using kaggle api token just uncomment the codes"
      ],
      "metadata": {
        "id": "cc-HCNisECZW"
      },
      "execution_count": 2,
      "outputs": []
    },
    {
      "cell_type": "code",
      "execution_count": 3,
      "metadata": {
        "id": "7Ex4mmLLoBN5"
      },
      "outputs": [],
      "source": [
        "# # KAGGLE\n",
        "# !pip install --upgrade --force-reinstall --no-deps kaggle\n",
        "\n",
        "# from google.colab import files\n",
        "# files.upload()\n",
        "\n",
        "# ! mkdir ~/.kaggle\n",
        "# ! mv kaggle.json ~/.kaggle/\n",
        "# ! chmod 600 ~/.kaggle/kaggle.json"
      ]
    },
    {
      "cell_type": "code",
      "execution_count": 4,
      "metadata": {
        "id": "29aval_5QOgS"
      },
      "outputs": [],
      "source": [
        "# !kaggle datasets download -d shayanfazeli/heartbeat"
      ]
    },
    {
      "cell_type": "code",
      "execution_count": 5,
      "metadata": {
        "id": "yTVyQW03ScW6"
      },
      "outputs": [],
      "source": [
        "# !unzip /content/heartbeat.zip"
      ]
    },
    {
      "cell_type": "code",
      "source": [
        "# !cp /content/mitbih_train.csv /content/drive/MyDrive/datasets\n",
        "# !cp /content/mitbih_test.csv /content/drive/MyDrive/datasets"
      ],
      "metadata": {
        "id": "wPDWVlwYDlfi"
      },
      "execution_count": 6,
      "outputs": []
    },
    {
      "cell_type": "markdown",
      "source": [
        "To convert edf to csv"
      ],
      "metadata": {
        "id": "YrwoMni167xT"
      }
    },
    {
      "cell_type": "code",
      "source": [
        "# ! pip install mne\n",
        "# import mne\n",
        "\n",
        "# infname = 'raw.edf'\n",
        "# outfname = 'raw.csv'\n",
        "\n",
        "# edf = mne.io.read_raw_edf(infname)\n",
        "# header = ','.join(edf.ch_names)\n",
        "# np.savetxt('raw.csv', edf.get_data().T, delimiter=',', header=header)"
      ],
      "metadata": {
        "id": "02iCtkhEsEam"
      },
      "execution_count": 7,
      "outputs": []
    },
    {
      "cell_type": "markdown",
      "source": [
        "Read csv file from my Google drive"
      ],
      "metadata": {
        "id": "tBHrO6807QxI"
      }
    },
    {
      "cell_type": "code",
      "execution_count": 8,
      "metadata": {
        "id": "_KsnPTEcoZAz"
      },
      "outputs": [],
      "source": [
        "train_df=pd.read_csv('/content/drive/MyDrive/datasets/mitbih_train.csv', header=None)\n",
        "test_df=pd.read_csv('/content/drive/MyDrive/datasets/mitbih_test.csv', header=None)"
      ]
    },
    {
      "cell_type": "markdown",
      "source": [
        "First 5 rows of the dataframe"
      ],
      "metadata": {
        "id": "vv-pVsgg7crw"
      }
    },
    {
      "cell_type": "code",
      "source": [
        "train_df.head()"
      ],
      "metadata": {
        "colab": {
          "base_uri": "https://localhost:8080/",
          "height": 299
        },
        "id": "8W-Yi3xFFVO_",
        "outputId": "7e9abe01-2c76-48f3-fe15-c7135692fd8f"
      },
      "execution_count": 9,
      "outputs": [
        {
          "output_type": "execute_result",
          "data": {
            "text/html": [
              "\n",
              "  <div id=\"df-08a2140d-9fac-40a8-8858-1938fa615659\">\n",
              "    <div class=\"colab-df-container\">\n",
              "      <div>\n",
              "<style scoped>\n",
              "    .dataframe tbody tr th:only-of-type {\n",
              "        vertical-align: middle;\n",
              "    }\n",
              "\n",
              "    .dataframe tbody tr th {\n",
              "        vertical-align: top;\n",
              "    }\n",
              "\n",
              "    .dataframe thead th {\n",
              "        text-align: right;\n",
              "    }\n",
              "</style>\n",
              "<table border=\"1\" class=\"dataframe\">\n",
              "  <thead>\n",
              "    <tr style=\"text-align: right;\">\n",
              "      <th></th>\n",
              "      <th>0</th>\n",
              "      <th>1</th>\n",
              "      <th>2</th>\n",
              "      <th>3</th>\n",
              "      <th>4</th>\n",
              "      <th>5</th>\n",
              "      <th>6</th>\n",
              "      <th>7</th>\n",
              "      <th>8</th>\n",
              "      <th>9</th>\n",
              "      <th>10</th>\n",
              "      <th>11</th>\n",
              "      <th>12</th>\n",
              "      <th>13</th>\n",
              "      <th>14</th>\n",
              "      <th>15</th>\n",
              "      <th>16</th>\n",
              "      <th>17</th>\n",
              "      <th>18</th>\n",
              "      <th>19</th>\n",
              "      <th>20</th>\n",
              "      <th>21</th>\n",
              "      <th>22</th>\n",
              "      <th>23</th>\n",
              "      <th>24</th>\n",
              "      <th>25</th>\n",
              "      <th>26</th>\n",
              "      <th>27</th>\n",
              "      <th>28</th>\n",
              "      <th>29</th>\n",
              "      <th>30</th>\n",
              "      <th>31</th>\n",
              "      <th>32</th>\n",
              "      <th>33</th>\n",
              "      <th>34</th>\n",
              "      <th>35</th>\n",
              "      <th>36</th>\n",
              "      <th>37</th>\n",
              "      <th>38</th>\n",
              "      <th>39</th>\n",
              "      <th>...</th>\n",
              "      <th>148</th>\n",
              "      <th>149</th>\n",
              "      <th>150</th>\n",
              "      <th>151</th>\n",
              "      <th>152</th>\n",
              "      <th>153</th>\n",
              "      <th>154</th>\n",
              "      <th>155</th>\n",
              "      <th>156</th>\n",
              "      <th>157</th>\n",
              "      <th>158</th>\n",
              "      <th>159</th>\n",
              "      <th>160</th>\n",
              "      <th>161</th>\n",
              "      <th>162</th>\n",
              "      <th>163</th>\n",
              "      <th>164</th>\n",
              "      <th>165</th>\n",
              "      <th>166</th>\n",
              "      <th>167</th>\n",
              "      <th>168</th>\n",
              "      <th>169</th>\n",
              "      <th>170</th>\n",
              "      <th>171</th>\n",
              "      <th>172</th>\n",
              "      <th>173</th>\n",
              "      <th>174</th>\n",
              "      <th>175</th>\n",
              "      <th>176</th>\n",
              "      <th>177</th>\n",
              "      <th>178</th>\n",
              "      <th>179</th>\n",
              "      <th>180</th>\n",
              "      <th>181</th>\n",
              "      <th>182</th>\n",
              "      <th>183</th>\n",
              "      <th>184</th>\n",
              "      <th>185</th>\n",
              "      <th>186</th>\n",
              "      <th>187</th>\n",
              "    </tr>\n",
              "  </thead>\n",
              "  <tbody>\n",
              "    <tr>\n",
              "      <th>0</th>\n",
              "      <td>0.977941</td>\n",
              "      <td>0.926471</td>\n",
              "      <td>0.681373</td>\n",
              "      <td>0.245098</td>\n",
              "      <td>0.154412</td>\n",
              "      <td>0.191176</td>\n",
              "      <td>0.151961</td>\n",
              "      <td>0.085784</td>\n",
              "      <td>0.058824</td>\n",
              "      <td>0.049020</td>\n",
              "      <td>0.044118</td>\n",
              "      <td>0.061275</td>\n",
              "      <td>0.066176</td>\n",
              "      <td>0.061275</td>\n",
              "      <td>0.049020</td>\n",
              "      <td>0.073529</td>\n",
              "      <td>0.061275</td>\n",
              "      <td>0.061275</td>\n",
              "      <td>0.066176</td>\n",
              "      <td>0.068627</td>\n",
              "      <td>0.095588</td>\n",
              "      <td>0.075980</td>\n",
              "      <td>0.093137</td>\n",
              "      <td>0.105392</td>\n",
              "      <td>0.115196</td>\n",
              "      <td>0.102941</td>\n",
              "      <td>0.117647</td>\n",
              "      <td>0.125000</td>\n",
              "      <td>0.142157</td>\n",
              "      <td>0.127451</td>\n",
              "      <td>0.151961</td>\n",
              "      <td>0.144608</td>\n",
              "      <td>0.164216</td>\n",
              "      <td>0.144608</td>\n",
              "      <td>0.159314</td>\n",
              "      <td>0.151961</td>\n",
              "      <td>0.154412</td>\n",
              "      <td>0.142157</td>\n",
              "      <td>0.151961</td>\n",
              "      <td>0.151961</td>\n",
              "      <td>...</td>\n",
              "      <td>0.0</td>\n",
              "      <td>0.0</td>\n",
              "      <td>0.0</td>\n",
              "      <td>0.0</td>\n",
              "      <td>0.0</td>\n",
              "      <td>0.0</td>\n",
              "      <td>0.0</td>\n",
              "      <td>0.0</td>\n",
              "      <td>0.0</td>\n",
              "      <td>0.0</td>\n",
              "      <td>0.0</td>\n",
              "      <td>0.0</td>\n",
              "      <td>0.0</td>\n",
              "      <td>0.0</td>\n",
              "      <td>0.0</td>\n",
              "      <td>0.0</td>\n",
              "      <td>0.0</td>\n",
              "      <td>0.0</td>\n",
              "      <td>0.0</td>\n",
              "      <td>0.0</td>\n",
              "      <td>0.0</td>\n",
              "      <td>0.0</td>\n",
              "      <td>0.0</td>\n",
              "      <td>0.0</td>\n",
              "      <td>0.0</td>\n",
              "      <td>0.0</td>\n",
              "      <td>0.0</td>\n",
              "      <td>0.0</td>\n",
              "      <td>0.0</td>\n",
              "      <td>0.0</td>\n",
              "      <td>0.0</td>\n",
              "      <td>0.0</td>\n",
              "      <td>0.0</td>\n",
              "      <td>0.0</td>\n",
              "      <td>0.0</td>\n",
              "      <td>0.0</td>\n",
              "      <td>0.0</td>\n",
              "      <td>0.0</td>\n",
              "      <td>0.0</td>\n",
              "      <td>0.0</td>\n",
              "    </tr>\n",
              "    <tr>\n",
              "      <th>1</th>\n",
              "      <td>0.960114</td>\n",
              "      <td>0.863248</td>\n",
              "      <td>0.461538</td>\n",
              "      <td>0.196581</td>\n",
              "      <td>0.094017</td>\n",
              "      <td>0.125356</td>\n",
              "      <td>0.099715</td>\n",
              "      <td>0.088319</td>\n",
              "      <td>0.074074</td>\n",
              "      <td>0.082621</td>\n",
              "      <td>0.074074</td>\n",
              "      <td>0.062678</td>\n",
              "      <td>0.065527</td>\n",
              "      <td>0.065527</td>\n",
              "      <td>0.062678</td>\n",
              "      <td>0.076923</td>\n",
              "      <td>0.071225</td>\n",
              "      <td>0.082621</td>\n",
              "      <td>0.091168</td>\n",
              "      <td>0.096866</td>\n",
              "      <td>0.082621</td>\n",
              "      <td>0.082621</td>\n",
              "      <td>0.091168</td>\n",
              "      <td>0.105413</td>\n",
              "      <td>0.122507</td>\n",
              "      <td>0.148148</td>\n",
              "      <td>0.182336</td>\n",
              "      <td>0.193732</td>\n",
              "      <td>0.213675</td>\n",
              "      <td>0.207977</td>\n",
              "      <td>0.222222</td>\n",
              "      <td>0.253561</td>\n",
              "      <td>0.270655</td>\n",
              "      <td>0.287749</td>\n",
              "      <td>0.284900</td>\n",
              "      <td>0.293447</td>\n",
              "      <td>0.256410</td>\n",
              "      <td>0.247863</td>\n",
              "      <td>0.188034</td>\n",
              "      <td>0.145299</td>\n",
              "      <td>...</td>\n",
              "      <td>0.0</td>\n",
              "      <td>0.0</td>\n",
              "      <td>0.0</td>\n",
              "      <td>0.0</td>\n",
              "      <td>0.0</td>\n",
              "      <td>0.0</td>\n",
              "      <td>0.0</td>\n",
              "      <td>0.0</td>\n",
              "      <td>0.0</td>\n",
              "      <td>0.0</td>\n",
              "      <td>0.0</td>\n",
              "      <td>0.0</td>\n",
              "      <td>0.0</td>\n",
              "      <td>0.0</td>\n",
              "      <td>0.0</td>\n",
              "      <td>0.0</td>\n",
              "      <td>0.0</td>\n",
              "      <td>0.0</td>\n",
              "      <td>0.0</td>\n",
              "      <td>0.0</td>\n",
              "      <td>0.0</td>\n",
              "      <td>0.0</td>\n",
              "      <td>0.0</td>\n",
              "      <td>0.0</td>\n",
              "      <td>0.0</td>\n",
              "      <td>0.0</td>\n",
              "      <td>0.0</td>\n",
              "      <td>0.0</td>\n",
              "      <td>0.0</td>\n",
              "      <td>0.0</td>\n",
              "      <td>0.0</td>\n",
              "      <td>0.0</td>\n",
              "      <td>0.0</td>\n",
              "      <td>0.0</td>\n",
              "      <td>0.0</td>\n",
              "      <td>0.0</td>\n",
              "      <td>0.0</td>\n",
              "      <td>0.0</td>\n",
              "      <td>0.0</td>\n",
              "      <td>0.0</td>\n",
              "    </tr>\n",
              "    <tr>\n",
              "      <th>2</th>\n",
              "      <td>1.000000</td>\n",
              "      <td>0.659459</td>\n",
              "      <td>0.186486</td>\n",
              "      <td>0.070270</td>\n",
              "      <td>0.070270</td>\n",
              "      <td>0.059459</td>\n",
              "      <td>0.056757</td>\n",
              "      <td>0.043243</td>\n",
              "      <td>0.054054</td>\n",
              "      <td>0.045946</td>\n",
              "      <td>0.056757</td>\n",
              "      <td>0.043243</td>\n",
              "      <td>0.067568</td>\n",
              "      <td>0.062162</td>\n",
              "      <td>0.078378</td>\n",
              "      <td>0.072973</td>\n",
              "      <td>0.086486</td>\n",
              "      <td>0.081081</td>\n",
              "      <td>0.108108</td>\n",
              "      <td>0.110811</td>\n",
              "      <td>0.135135</td>\n",
              "      <td>0.135135</td>\n",
              "      <td>0.170270</td>\n",
              "      <td>0.183784</td>\n",
              "      <td>0.216216</td>\n",
              "      <td>0.237838</td>\n",
              "      <td>0.270270</td>\n",
              "      <td>0.286486</td>\n",
              "      <td>0.316216</td>\n",
              "      <td>0.318919</td>\n",
              "      <td>0.332432</td>\n",
              "      <td>0.297297</td>\n",
              "      <td>0.267568</td>\n",
              "      <td>0.216216</td>\n",
              "      <td>0.189189</td>\n",
              "      <td>0.132432</td>\n",
              "      <td>0.118919</td>\n",
              "      <td>0.064865</td>\n",
              "      <td>0.064865</td>\n",
              "      <td>0.043243</td>\n",
              "      <td>...</td>\n",
              "      <td>0.0</td>\n",
              "      <td>0.0</td>\n",
              "      <td>0.0</td>\n",
              "      <td>0.0</td>\n",
              "      <td>0.0</td>\n",
              "      <td>0.0</td>\n",
              "      <td>0.0</td>\n",
              "      <td>0.0</td>\n",
              "      <td>0.0</td>\n",
              "      <td>0.0</td>\n",
              "      <td>0.0</td>\n",
              "      <td>0.0</td>\n",
              "      <td>0.0</td>\n",
              "      <td>0.0</td>\n",
              "      <td>0.0</td>\n",
              "      <td>0.0</td>\n",
              "      <td>0.0</td>\n",
              "      <td>0.0</td>\n",
              "      <td>0.0</td>\n",
              "      <td>0.0</td>\n",
              "      <td>0.0</td>\n",
              "      <td>0.0</td>\n",
              "      <td>0.0</td>\n",
              "      <td>0.0</td>\n",
              "      <td>0.0</td>\n",
              "      <td>0.0</td>\n",
              "      <td>0.0</td>\n",
              "      <td>0.0</td>\n",
              "      <td>0.0</td>\n",
              "      <td>0.0</td>\n",
              "      <td>0.0</td>\n",
              "      <td>0.0</td>\n",
              "      <td>0.0</td>\n",
              "      <td>0.0</td>\n",
              "      <td>0.0</td>\n",
              "      <td>0.0</td>\n",
              "      <td>0.0</td>\n",
              "      <td>0.0</td>\n",
              "      <td>0.0</td>\n",
              "      <td>0.0</td>\n",
              "    </tr>\n",
              "    <tr>\n",
              "      <th>3</th>\n",
              "      <td>0.925414</td>\n",
              "      <td>0.665746</td>\n",
              "      <td>0.541436</td>\n",
              "      <td>0.276243</td>\n",
              "      <td>0.196133</td>\n",
              "      <td>0.077348</td>\n",
              "      <td>0.071823</td>\n",
              "      <td>0.060773</td>\n",
              "      <td>0.066298</td>\n",
              "      <td>0.058011</td>\n",
              "      <td>0.063536</td>\n",
              "      <td>0.082873</td>\n",
              "      <td>0.085635</td>\n",
              "      <td>0.093923</td>\n",
              "      <td>0.113260</td>\n",
              "      <td>0.124309</td>\n",
              "      <td>0.140884</td>\n",
              "      <td>0.132597</td>\n",
              "      <td>0.140884</td>\n",
              "      <td>0.091160</td>\n",
              "      <td>0.085635</td>\n",
              "      <td>0.074586</td>\n",
              "      <td>0.071823</td>\n",
              "      <td>0.080110</td>\n",
              "      <td>0.096685</td>\n",
              "      <td>0.118785</td>\n",
              "      <td>0.138122</td>\n",
              "      <td>0.140884</td>\n",
              "      <td>0.138122</td>\n",
              "      <td>0.146409</td>\n",
              "      <td>0.110497</td>\n",
              "      <td>0.102210</td>\n",
              "      <td>0.060773</td>\n",
              "      <td>0.027624</td>\n",
              "      <td>0.038674</td>\n",
              "      <td>0.013812</td>\n",
              "      <td>0.011050</td>\n",
              "      <td>0.013812</td>\n",
              "      <td>0.033149</td>\n",
              "      <td>0.005525</td>\n",
              "      <td>...</td>\n",
              "      <td>0.0</td>\n",
              "      <td>0.0</td>\n",
              "      <td>0.0</td>\n",
              "      <td>0.0</td>\n",
              "      <td>0.0</td>\n",
              "      <td>0.0</td>\n",
              "      <td>0.0</td>\n",
              "      <td>0.0</td>\n",
              "      <td>0.0</td>\n",
              "      <td>0.0</td>\n",
              "      <td>0.0</td>\n",
              "      <td>0.0</td>\n",
              "      <td>0.0</td>\n",
              "      <td>0.0</td>\n",
              "      <td>0.0</td>\n",
              "      <td>0.0</td>\n",
              "      <td>0.0</td>\n",
              "      <td>0.0</td>\n",
              "      <td>0.0</td>\n",
              "      <td>0.0</td>\n",
              "      <td>0.0</td>\n",
              "      <td>0.0</td>\n",
              "      <td>0.0</td>\n",
              "      <td>0.0</td>\n",
              "      <td>0.0</td>\n",
              "      <td>0.0</td>\n",
              "      <td>0.0</td>\n",
              "      <td>0.0</td>\n",
              "      <td>0.0</td>\n",
              "      <td>0.0</td>\n",
              "      <td>0.0</td>\n",
              "      <td>0.0</td>\n",
              "      <td>0.0</td>\n",
              "      <td>0.0</td>\n",
              "      <td>0.0</td>\n",
              "      <td>0.0</td>\n",
              "      <td>0.0</td>\n",
              "      <td>0.0</td>\n",
              "      <td>0.0</td>\n",
              "      <td>0.0</td>\n",
              "    </tr>\n",
              "    <tr>\n",
              "      <th>4</th>\n",
              "      <td>0.967136</td>\n",
              "      <td>1.000000</td>\n",
              "      <td>0.830986</td>\n",
              "      <td>0.586854</td>\n",
              "      <td>0.356808</td>\n",
              "      <td>0.248826</td>\n",
              "      <td>0.145540</td>\n",
              "      <td>0.089202</td>\n",
              "      <td>0.117371</td>\n",
              "      <td>0.150235</td>\n",
              "      <td>0.131455</td>\n",
              "      <td>0.122066</td>\n",
              "      <td>0.140845</td>\n",
              "      <td>0.159624</td>\n",
              "      <td>0.150235</td>\n",
              "      <td>0.145540</td>\n",
              "      <td>0.136150</td>\n",
              "      <td>0.169014</td>\n",
              "      <td>0.178404</td>\n",
              "      <td>0.173709</td>\n",
              "      <td>0.183099</td>\n",
              "      <td>0.201878</td>\n",
              "      <td>0.187793</td>\n",
              "      <td>0.164319</td>\n",
              "      <td>0.187793</td>\n",
              "      <td>0.215962</td>\n",
              "      <td>0.215962</td>\n",
              "      <td>0.201878</td>\n",
              "      <td>0.211268</td>\n",
              "      <td>0.230047</td>\n",
              "      <td>0.215962</td>\n",
              "      <td>0.230047</td>\n",
              "      <td>0.239437</td>\n",
              "      <td>0.267606</td>\n",
              "      <td>0.253521</td>\n",
              "      <td>0.230047</td>\n",
              "      <td>0.220657</td>\n",
              "      <td>0.225352</td>\n",
              "      <td>0.211268</td>\n",
              "      <td>0.173709</td>\n",
              "      <td>...</td>\n",
              "      <td>0.0</td>\n",
              "      <td>0.0</td>\n",
              "      <td>0.0</td>\n",
              "      <td>0.0</td>\n",
              "      <td>0.0</td>\n",
              "      <td>0.0</td>\n",
              "      <td>0.0</td>\n",
              "      <td>0.0</td>\n",
              "      <td>0.0</td>\n",
              "      <td>0.0</td>\n",
              "      <td>0.0</td>\n",
              "      <td>0.0</td>\n",
              "      <td>0.0</td>\n",
              "      <td>0.0</td>\n",
              "      <td>0.0</td>\n",
              "      <td>0.0</td>\n",
              "      <td>0.0</td>\n",
              "      <td>0.0</td>\n",
              "      <td>0.0</td>\n",
              "      <td>0.0</td>\n",
              "      <td>0.0</td>\n",
              "      <td>0.0</td>\n",
              "      <td>0.0</td>\n",
              "      <td>0.0</td>\n",
              "      <td>0.0</td>\n",
              "      <td>0.0</td>\n",
              "      <td>0.0</td>\n",
              "      <td>0.0</td>\n",
              "      <td>0.0</td>\n",
              "      <td>0.0</td>\n",
              "      <td>0.0</td>\n",
              "      <td>0.0</td>\n",
              "      <td>0.0</td>\n",
              "      <td>0.0</td>\n",
              "      <td>0.0</td>\n",
              "      <td>0.0</td>\n",
              "      <td>0.0</td>\n",
              "      <td>0.0</td>\n",
              "      <td>0.0</td>\n",
              "      <td>0.0</td>\n",
              "    </tr>\n",
              "  </tbody>\n",
              "</table>\n",
              "<p>5 rows × 188 columns</p>\n",
              "</div>\n",
              "      <button class=\"colab-df-convert\" onclick=\"convertToInteractive('df-08a2140d-9fac-40a8-8858-1938fa615659')\"\n",
              "              title=\"Convert this dataframe to an interactive table.\"\n",
              "              style=\"display:none;\">\n",
              "        \n",
              "  <svg xmlns=\"http://www.w3.org/2000/svg\" height=\"24px\"viewBox=\"0 0 24 24\"\n",
              "       width=\"24px\">\n",
              "    <path d=\"M0 0h24v24H0V0z\" fill=\"none\"/>\n",
              "    <path d=\"M18.56 5.44l.94 2.06.94-2.06 2.06-.94-2.06-.94-.94-2.06-.94 2.06-2.06.94zm-11 1L8.5 8.5l.94-2.06 2.06-.94-2.06-.94L8.5 2.5l-.94 2.06-2.06.94zm10 10l.94 2.06.94-2.06 2.06-.94-2.06-.94-.94-2.06-.94 2.06-2.06.94z\"/><path d=\"M17.41 7.96l-1.37-1.37c-.4-.4-.92-.59-1.43-.59-.52 0-1.04.2-1.43.59L10.3 9.45l-7.72 7.72c-.78.78-.78 2.05 0 2.83L4 21.41c.39.39.9.59 1.41.59.51 0 1.02-.2 1.41-.59l7.78-7.78 2.81-2.81c.8-.78.8-2.07 0-2.86zM5.41 20L4 18.59l7.72-7.72 1.47 1.35L5.41 20z\"/>\n",
              "  </svg>\n",
              "      </button>\n",
              "      \n",
              "  <style>\n",
              "    .colab-df-container {\n",
              "      display:flex;\n",
              "      flex-wrap:wrap;\n",
              "      gap: 12px;\n",
              "    }\n",
              "\n",
              "    .colab-df-convert {\n",
              "      background-color: #E8F0FE;\n",
              "      border: none;\n",
              "      border-radius: 50%;\n",
              "      cursor: pointer;\n",
              "      display: none;\n",
              "      fill: #1967D2;\n",
              "      height: 32px;\n",
              "      padding: 0 0 0 0;\n",
              "      width: 32px;\n",
              "    }\n",
              "\n",
              "    .colab-df-convert:hover {\n",
              "      background-color: #E2EBFA;\n",
              "      box-shadow: 0px 1px 2px rgba(60, 64, 67, 0.3), 0px 1px 3px 1px rgba(60, 64, 67, 0.15);\n",
              "      fill: #174EA6;\n",
              "    }\n",
              "\n",
              "    [theme=dark] .colab-df-convert {\n",
              "      background-color: #3B4455;\n",
              "      fill: #D2E3FC;\n",
              "    }\n",
              "\n",
              "    [theme=dark] .colab-df-convert:hover {\n",
              "      background-color: #434B5C;\n",
              "      box-shadow: 0px 1px 3px 1px rgba(0, 0, 0, 0.15);\n",
              "      filter: drop-shadow(0px 1px 2px rgba(0, 0, 0, 0.3));\n",
              "      fill: #FFFFFF;\n",
              "    }\n",
              "  </style>\n",
              "\n",
              "      <script>\n",
              "        const buttonEl =\n",
              "          document.querySelector('#df-08a2140d-9fac-40a8-8858-1938fa615659 button.colab-df-convert');\n",
              "        buttonEl.style.display =\n",
              "          google.colab.kernel.accessAllowed ? 'block' : 'none';\n",
              "\n",
              "        async function convertToInteractive(key) {\n",
              "          const element = document.querySelector('#df-08a2140d-9fac-40a8-8858-1938fa615659');\n",
              "          const dataTable =\n",
              "            await google.colab.kernel.invokeFunction('convertToInteractive',\n",
              "                                                     [key], {});\n",
              "          if (!dataTable) return;\n",
              "\n",
              "          const docLinkHtml = 'Like what you see? Visit the ' +\n",
              "            '<a target=\"_blank\" href=https://colab.research.google.com/notebooks/data_table.ipynb>data table notebook</a>'\n",
              "            + ' to learn more about interactive tables.';\n",
              "          element.innerHTML = '';\n",
              "          dataTable['output_type'] = 'display_data';\n",
              "          await google.colab.output.renderOutput(dataTable, element);\n",
              "          const docLink = document.createElement('div');\n",
              "          docLink.innerHTML = docLinkHtml;\n",
              "          element.appendChild(docLink);\n",
              "        }\n",
              "      </script>\n",
              "    </div>\n",
              "  </div>\n",
              "  "
            ],
            "text/plain": [
              "        0         1         2         3         4    ...  183  184  185  186  187\n",
              "0  0.977941  0.926471  0.681373  0.245098  0.154412  ...  0.0  0.0  0.0  0.0  0.0\n",
              "1  0.960114  0.863248  0.461538  0.196581  0.094017  ...  0.0  0.0  0.0  0.0  0.0\n",
              "2  1.000000  0.659459  0.186486  0.070270  0.070270  ...  0.0  0.0  0.0  0.0  0.0\n",
              "3  0.925414  0.665746  0.541436  0.276243  0.196133  ...  0.0  0.0  0.0  0.0  0.0\n",
              "4  0.967136  1.000000  0.830986  0.586854  0.356808  ...  0.0  0.0  0.0  0.0  0.0\n",
              "\n",
              "[5 rows x 188 columns]"
            ]
          },
          "metadata": {},
          "execution_count": 9
        }
      ]
    },
    {
      "cell_type": "markdown",
      "source": [
        "There are 87554 entries in rows, 186 train_features and column '187' is the train_label"
      ],
      "metadata": {
        "id": "J7kFdUMOFwNc"
      }
    },
    {
      "cell_type": "code",
      "execution_count": 10,
      "metadata": {
        "colab": {
          "base_uri": "https://localhost:8080/"
        },
        "id": "_08r_kouyW-v",
        "outputId": "4d7c7eee-42f2-4ab2-913b-5ecc41c66baf"
      },
      "outputs": [
        {
          "output_type": "stream",
          "name": "stdout",
          "text": [
            "<class 'pandas.core.frame.DataFrame'>\n",
            "RangeIndex: 87554 entries, 0 to 87553\n",
            "Columns: 188 entries, 0 to 187\n",
            "dtypes: float64(188)\n",
            "memory usage: 125.6 MB\n"
          ]
        }
      ],
      "source": [
        "train_df.info()"
      ]
    },
    {
      "cell_type": "code",
      "execution_count": 11,
      "metadata": {
        "colab": {
          "base_uri": "https://localhost:8080/",
          "height": 423
        },
        "id": "UdKkKHk1ySMo",
        "outputId": "013b4f65-1ea3-4a3f-b127-c65a45ce2617"
      },
      "outputs": [
        {
          "output_type": "execute_result",
          "data": {
            "text/html": [
              "\n",
              "  <div id=\"df-c9e2070d-c0c6-4995-8199-2ae74948c0c1\">\n",
              "    <div class=\"colab-df-container\">\n",
              "      <div>\n",
              "<style scoped>\n",
              "    .dataframe tbody tr th:only-of-type {\n",
              "        vertical-align: middle;\n",
              "    }\n",
              "\n",
              "    .dataframe tbody tr th {\n",
              "        vertical-align: top;\n",
              "    }\n",
              "\n",
              "    .dataframe thead th {\n",
              "        text-align: right;\n",
              "    }\n",
              "</style>\n",
              "<table border=\"1\" class=\"dataframe\">\n",
              "  <thead>\n",
              "    <tr style=\"text-align: right;\">\n",
              "      <th></th>\n",
              "      <th>count</th>\n",
              "      <th>mean</th>\n",
              "      <th>std</th>\n",
              "      <th>min</th>\n",
              "      <th>25%</th>\n",
              "      <th>50%</th>\n",
              "      <th>75%</th>\n",
              "      <th>max</th>\n",
              "    </tr>\n",
              "  </thead>\n",
              "  <tbody>\n",
              "    <tr>\n",
              "      <th>0</th>\n",
              "      <td>87554.0</td>\n",
              "      <td>0.890360</td>\n",
              "      <td>0.240909</td>\n",
              "      <td>0.0</td>\n",
              "      <td>0.921922</td>\n",
              "      <td>0.991342</td>\n",
              "      <td>1.000000</td>\n",
              "      <td>1.0</td>\n",
              "    </tr>\n",
              "    <tr>\n",
              "      <th>1</th>\n",
              "      <td>87554.0</td>\n",
              "      <td>0.758160</td>\n",
              "      <td>0.221813</td>\n",
              "      <td>0.0</td>\n",
              "      <td>0.682486</td>\n",
              "      <td>0.826013</td>\n",
              "      <td>0.910506</td>\n",
              "      <td>1.0</td>\n",
              "    </tr>\n",
              "    <tr>\n",
              "      <th>2</th>\n",
              "      <td>87554.0</td>\n",
              "      <td>0.423972</td>\n",
              "      <td>0.227305</td>\n",
              "      <td>0.0</td>\n",
              "      <td>0.250969</td>\n",
              "      <td>0.429472</td>\n",
              "      <td>0.578767</td>\n",
              "      <td>1.0</td>\n",
              "    </tr>\n",
              "    <tr>\n",
              "      <th>3</th>\n",
              "      <td>87554.0</td>\n",
              "      <td>0.219104</td>\n",
              "      <td>0.206878</td>\n",
              "      <td>0.0</td>\n",
              "      <td>0.048458</td>\n",
              "      <td>0.166000</td>\n",
              "      <td>0.341727</td>\n",
              "      <td>1.0</td>\n",
              "    </tr>\n",
              "    <tr>\n",
              "      <th>4</th>\n",
              "      <td>87554.0</td>\n",
              "      <td>0.201127</td>\n",
              "      <td>0.177058</td>\n",
              "      <td>0.0</td>\n",
              "      <td>0.082329</td>\n",
              "      <td>0.147878</td>\n",
              "      <td>0.258993</td>\n",
              "      <td>1.0</td>\n",
              "    </tr>\n",
              "    <tr>\n",
              "      <th>...</th>\n",
              "      <td>...</td>\n",
              "      <td>...</td>\n",
              "      <td>...</td>\n",
              "      <td>...</td>\n",
              "      <td>...</td>\n",
              "      <td>...</td>\n",
              "      <td>...</td>\n",
              "      <td>...</td>\n",
              "    </tr>\n",
              "    <tr>\n",
              "      <th>183</th>\n",
              "      <td>87554.0</td>\n",
              "      <td>0.003471</td>\n",
              "      <td>0.036255</td>\n",
              "      <td>0.0</td>\n",
              "      <td>0.000000</td>\n",
              "      <td>0.000000</td>\n",
              "      <td>0.000000</td>\n",
              "      <td>1.0</td>\n",
              "    </tr>\n",
              "    <tr>\n",
              "      <th>184</th>\n",
              "      <td>87554.0</td>\n",
              "      <td>0.003221</td>\n",
              "      <td>0.034789</td>\n",
              "      <td>0.0</td>\n",
              "      <td>0.000000</td>\n",
              "      <td>0.000000</td>\n",
              "      <td>0.000000</td>\n",
              "      <td>1.0</td>\n",
              "    </tr>\n",
              "    <tr>\n",
              "      <th>185</th>\n",
              "      <td>87554.0</td>\n",
              "      <td>0.002945</td>\n",
              "      <td>0.032865</td>\n",
              "      <td>0.0</td>\n",
              "      <td>0.000000</td>\n",
              "      <td>0.000000</td>\n",
              "      <td>0.000000</td>\n",
              "      <td>1.0</td>\n",
              "    </tr>\n",
              "    <tr>\n",
              "      <th>186</th>\n",
              "      <td>87554.0</td>\n",
              "      <td>0.002807</td>\n",
              "      <td>0.031924</td>\n",
              "      <td>0.0</td>\n",
              "      <td>0.000000</td>\n",
              "      <td>0.000000</td>\n",
              "      <td>0.000000</td>\n",
              "      <td>1.0</td>\n",
              "    </tr>\n",
              "    <tr>\n",
              "      <th>187</th>\n",
              "      <td>87554.0</td>\n",
              "      <td>0.473376</td>\n",
              "      <td>1.143184</td>\n",
              "      <td>0.0</td>\n",
              "      <td>0.000000</td>\n",
              "      <td>0.000000</td>\n",
              "      <td>0.000000</td>\n",
              "      <td>4.0</td>\n",
              "    </tr>\n",
              "  </tbody>\n",
              "</table>\n",
              "<p>188 rows × 8 columns</p>\n",
              "</div>\n",
              "      <button class=\"colab-df-convert\" onclick=\"convertToInteractive('df-c9e2070d-c0c6-4995-8199-2ae74948c0c1')\"\n",
              "              title=\"Convert this dataframe to an interactive table.\"\n",
              "              style=\"display:none;\">\n",
              "        \n",
              "  <svg xmlns=\"http://www.w3.org/2000/svg\" height=\"24px\"viewBox=\"0 0 24 24\"\n",
              "       width=\"24px\">\n",
              "    <path d=\"M0 0h24v24H0V0z\" fill=\"none\"/>\n",
              "    <path d=\"M18.56 5.44l.94 2.06.94-2.06 2.06-.94-2.06-.94-.94-2.06-.94 2.06-2.06.94zm-11 1L8.5 8.5l.94-2.06 2.06-.94-2.06-.94L8.5 2.5l-.94 2.06-2.06.94zm10 10l.94 2.06.94-2.06 2.06-.94-2.06-.94-.94-2.06-.94 2.06-2.06.94z\"/><path d=\"M17.41 7.96l-1.37-1.37c-.4-.4-.92-.59-1.43-.59-.52 0-1.04.2-1.43.59L10.3 9.45l-7.72 7.72c-.78.78-.78 2.05 0 2.83L4 21.41c.39.39.9.59 1.41.59.51 0 1.02-.2 1.41-.59l7.78-7.78 2.81-2.81c.8-.78.8-2.07 0-2.86zM5.41 20L4 18.59l7.72-7.72 1.47 1.35L5.41 20z\"/>\n",
              "  </svg>\n",
              "      </button>\n",
              "      \n",
              "  <style>\n",
              "    .colab-df-container {\n",
              "      display:flex;\n",
              "      flex-wrap:wrap;\n",
              "      gap: 12px;\n",
              "    }\n",
              "\n",
              "    .colab-df-convert {\n",
              "      background-color: #E8F0FE;\n",
              "      border: none;\n",
              "      border-radius: 50%;\n",
              "      cursor: pointer;\n",
              "      display: none;\n",
              "      fill: #1967D2;\n",
              "      height: 32px;\n",
              "      padding: 0 0 0 0;\n",
              "      width: 32px;\n",
              "    }\n",
              "\n",
              "    .colab-df-convert:hover {\n",
              "      background-color: #E2EBFA;\n",
              "      box-shadow: 0px 1px 2px rgba(60, 64, 67, 0.3), 0px 1px 3px 1px rgba(60, 64, 67, 0.15);\n",
              "      fill: #174EA6;\n",
              "    }\n",
              "\n",
              "    [theme=dark] .colab-df-convert {\n",
              "      background-color: #3B4455;\n",
              "      fill: #D2E3FC;\n",
              "    }\n",
              "\n",
              "    [theme=dark] .colab-df-convert:hover {\n",
              "      background-color: #434B5C;\n",
              "      box-shadow: 0px 1px 3px 1px rgba(0, 0, 0, 0.15);\n",
              "      filter: drop-shadow(0px 1px 2px rgba(0, 0, 0, 0.3));\n",
              "      fill: #FFFFFF;\n",
              "    }\n",
              "  </style>\n",
              "\n",
              "      <script>\n",
              "        const buttonEl =\n",
              "          document.querySelector('#df-c9e2070d-c0c6-4995-8199-2ae74948c0c1 button.colab-df-convert');\n",
              "        buttonEl.style.display =\n",
              "          google.colab.kernel.accessAllowed ? 'block' : 'none';\n",
              "\n",
              "        async function convertToInteractive(key) {\n",
              "          const element = document.querySelector('#df-c9e2070d-c0c6-4995-8199-2ae74948c0c1');\n",
              "          const dataTable =\n",
              "            await google.colab.kernel.invokeFunction('convertToInteractive',\n",
              "                                                     [key], {});\n",
              "          if (!dataTable) return;\n",
              "\n",
              "          const docLinkHtml = 'Like what you see? Visit the ' +\n",
              "            '<a target=\"_blank\" href=https://colab.research.google.com/notebooks/data_table.ipynb>data table notebook</a>'\n",
              "            + ' to learn more about interactive tables.';\n",
              "          element.innerHTML = '';\n",
              "          dataTable['output_type'] = 'display_data';\n",
              "          await google.colab.output.renderOutput(dataTable, element);\n",
              "          const docLink = document.createElement('div');\n",
              "          docLink.innerHTML = docLinkHtml;\n",
              "          element.appendChild(docLink);\n",
              "        }\n",
              "      </script>\n",
              "    </div>\n",
              "  </div>\n",
              "  "
            ],
            "text/plain": [
              "       count      mean       std  min       25%       50%       75%  max\n",
              "0    87554.0  0.890360  0.240909  0.0  0.921922  0.991342  1.000000  1.0\n",
              "1    87554.0  0.758160  0.221813  0.0  0.682486  0.826013  0.910506  1.0\n",
              "2    87554.0  0.423972  0.227305  0.0  0.250969  0.429472  0.578767  1.0\n",
              "3    87554.0  0.219104  0.206878  0.0  0.048458  0.166000  0.341727  1.0\n",
              "4    87554.0  0.201127  0.177058  0.0  0.082329  0.147878  0.258993  1.0\n",
              "..       ...       ...       ...  ...       ...       ...       ...  ...\n",
              "183  87554.0  0.003471  0.036255  0.0  0.000000  0.000000  0.000000  1.0\n",
              "184  87554.0  0.003221  0.034789  0.0  0.000000  0.000000  0.000000  1.0\n",
              "185  87554.0  0.002945  0.032865  0.0  0.000000  0.000000  0.000000  1.0\n",
              "186  87554.0  0.002807  0.031924  0.0  0.000000  0.000000  0.000000  1.0\n",
              "187  87554.0  0.473376  1.143184  0.0  0.000000  0.000000  0.000000  4.0\n",
              "\n",
              "[188 rows x 8 columns]"
            ]
          },
          "metadata": {},
          "execution_count": 11
        }
      ],
      "source": [
        "# checking info of each features\n",
        "train_df.describe().T"
      ]
    },
    {
      "cell_type": "code",
      "source": [
        "# showing column wise %ge of NaN values they contains \n",
        "null_col = []\n",
        "\n",
        "for i in train_df.columns:\n",
        "  if train_df[i].isna().mean()*100 > 0:\n",
        "    print(i,\"\\t-\\t\", train_df[i].isna().mean()*100)\n",
        "    null_col.append(i)\n",
        "\n",
        "\n",
        "found = False\n",
        "if(len(null_col) >= 1): found = True\n",
        "if found == False: print(\"No null column found\")\n",
        "else : print(null_col)"
      ],
      "metadata": {
        "colab": {
          "base_uri": "https://localhost:8080/"
        },
        "id": "f-3U2zQeGSai",
        "outputId": "4c98ab72-579f-4402-acaa-96193b5c3f7f"
      },
      "execution_count": 12,
      "outputs": [
        {
          "output_type": "stream",
          "name": "stdout",
          "text": [
            "No null column found\n"
          ]
        }
      ]
    },
    {
      "cell_type": "code",
      "execution_count": 13,
      "metadata": {
        "colab": {
          "base_uri": "https://localhost:8080/",
          "height": 296
        },
        "id": "4vO87r85zffP",
        "outputId": "7ba1d17c-541c-4b4e-edb7-9b58e490bdc3"
      },
      "outputs": [
        {
          "output_type": "execute_result",
          "data": {
            "text/plain": [
              "<matplotlib.axes._subplots.AxesSubplot at 0x7f8a11e6f050>"
            ]
          },
          "metadata": {},
          "execution_count": 13
        },
        {
          "output_type": "display_data",
          "data": {
            "image/png": "[encoded data removed]",
            "text/plain": [
              "<Figure size 432x288 with 1 Axes>"
            ]
          },
          "metadata": {
            "needs_background": "light"
          }
        }
      ],
      "source": [
        "sns.countplot(x=187, data = train_df)"
      ]
    },
    {
      "cell_type": "markdown",
      "source": [
        "data is unblance, so i am downsampling the class_0 to 10%"
      ],
      "metadata": {
        "id": "V33wZlgTIAhn"
      }
    },
    {
      "cell_type": "code",
      "source": [
        "class_1 = train_df[train_df[187]==1.0]\n",
        "class_2 = train_df[train_df[187]==2.0]\n",
        "class_3 = train_df[train_df[187]==3.0]\n",
        "class_4 = train_df[train_df[187]==4.0]\n",
        "class_0 = train_df[train_df[187]==0.0].sample(frac = 0.1) # 10% beacause it seems closer to others"
      ],
      "metadata": {
        "id": "ZT3nXK_X2nmw"
      },
      "execution_count": 14,
      "outputs": []
    },
    {
      "cell_type": "code",
      "source": [
        "len(class_0)"
      ],
      "metadata": {
        "colab": {
          "base_uri": "https://localhost:8080/"
        },
        "id": "SXM6GN8kJs_j",
        "outputId": "a12fa595-67aa-47b2-ead0-ba645d9b37e1"
      },
      "execution_count": 15,
      "outputs": [
        {
          "output_type": "execute_result",
          "data": {
            "text/plain": [
              "7247"
            ]
          },
          "metadata": {},
          "execution_count": 15
        }
      ]
    },
    {
      "cell_type": "code",
      "source": [
        "df = pd.concat([class_0, class_1, class_2, class_3, class_4])"
      ],
      "metadata": {
        "id": "LgZg2o0E23rE"
      },
      "execution_count": 16,
      "outputs": []
    },
    {
      "cell_type": "code",
      "source": [
        "sns.countplot(x=187, data = df)"
      ],
      "metadata": {
        "id": "EWkDAw1K3FlT",
        "colab": {
          "base_uri": "https://localhost:8080/",
          "height": 296
        },
        "outputId": "c0bdb60f-2234-4b3c-fe09-5d70b415258c"
      },
      "execution_count": 17,
      "outputs": [
        {
          "output_type": "execute_result",
          "data": {
            "text/plain": [
              "<matplotlib.axes._subplots.AxesSubplot at 0x7f8a11569110>"
            ]
          },
          "metadata": {},
          "execution_count": 17
        },
        {
          "output_type": "display_data",
          "data": {
            "image/png": "[encoded data removed]",
            "text/plain": [
              "<Figure size 432x288 with 1 Axes>"
            ]
          },
          "metadata": {
            "needs_background": "light"
          }
        }
      ]
    },
    {
      "cell_type": "code",
      "source": [
        "df.groupby(187)[187].count()"
      ],
      "metadata": {
        "colab": {
          "base_uri": "https://localhost:8080/"
        },
        "id": "Ldymj80tdIYz",
        "outputId": "4ddc2238-96f8-4b94-bdc1-78cbf91e8bff"
      },
      "execution_count": 18,
      "outputs": [
        {
          "output_type": "execute_result",
          "data": {
            "text/plain": [
              "187\n",
              "0.0    7247\n",
              "1.0    2223\n",
              "2.0    5788\n",
              "3.0     641\n",
              "4.0    6431\n",
              "Name: 187, dtype: int64"
            ]
          },
          "metadata": {},
          "execution_count": 18
        }
      ]
    },
    {
      "cell_type": "code",
      "source": [
        "plt.figure(figsize = (30, 5))\n",
        "for i in range(5):\n",
        "  plt.subplot(1, 5, i+1)\n",
        "  plt.plot(df[df[187] == float(i)].sample(1).iloc[0,:186])\n",
        "  plt.xlabel('class_'+str(i))"
      ],
      "metadata": {
        "colab": {
          "base_uri": "https://localhost:8080/",
          "height": 254
        },
        "id": "rcbzFi0Lfs6M",
        "outputId": "c2f608f3-f210-4304-8da6-37737b44b359"
      },
      "execution_count": 19,
      "outputs": [
        {
          "output_type": "display_data",
          "data": {
            "image/png": "[encoded data removed]",
            "text/plain": [
              "<Figure size 2160x360 with 5 Axes>"
            ]
          },
          "metadata": {
            "needs_background": "light"
          }
        }
      ]
    },
    {
      "cell_type": "code",
      "source": [
        "#now lets split data in test train pairs\n",
        "\n",
        "from sklearn.model_selection import train_test_split\n",
        "\n",
        "X_train, X_test, y_train, y_test = train_test_split(df.drop([187], axis=1), df[187], test_size = 0.1)"
      ],
      "metadata": {
        "id": "GpxpgV-r5TMI"
      },
      "execution_count": 20,
      "outputs": []
    },
    {
      "cell_type": "code",
      "source": [
        "X_train = np.array(X_train).reshape(X_train.shape[0], X_train.shape[1], 1)\n",
        "X_test = np.array(X_test).reshape(X_test.shape[0], X_test.shape[1], 1)"
      ],
      "metadata": {
        "id": "_CFOOdhB5AXH"
      },
      "execution_count": 21,
      "outputs": []
    },
    {
      "cell_type": "code",
      "source": [
        "from tensorflow.keras import Sequential,utils\n",
        "from tensorflow.keras.layers import Flatten, Dense, Conv1D, MaxPool1D, Dropout"
      ],
      "metadata": {
        "id": "7fCkBT086NSO"
      },
      "execution_count": 22,
      "outputs": []
    },
    {
      "cell_type": "code",
      "source": [
        "model = Sequential()\n",
        "\n",
        "model.add(Conv1D(filters=32, kernel_size=(3,), padding='same', activation='relu', input_shape = (X_train.shape[1],1)))\n",
        "model.add(Conv1D(filters=64, kernel_size=(3,), padding='same', activation='relu'))\n",
        "model.add(Conv1D(filters=128, kernel_size=(5,), padding='same', activation='relu'))    \n",
        "\n",
        "model.add(MaxPool1D(pool_size=(3,), strides=2, padding='same'))\n",
        "model.add(Dropout(0.5))\n",
        "\n",
        "model.add(Flatten())\n",
        "\n",
        "model.add(Dense(units = 512, activation='relu'))\n",
        "model.add(Dense(units = 1024, activation='relu'))\n",
        "\n",
        "model.add(Dense(units = 5, activation='softmax'))"
      ],
      "metadata": {
        "id": "QbQsfMsK6OEW"
      },
      "execution_count": 23,
      "outputs": []
    },
    {
      "cell_type": "code",
      "source": [
        "model.compile(optimizer='adam', loss = 'sparse_categorical_crossentropy', metrics=['accuracy'])"
      ],
      "metadata": {
        "id": "Sn6Q9C1p6Qyu"
      },
      "execution_count": 24,
      "outputs": []
    },
    {
      "cell_type": "code",
      "source": [
        "history = model.fit(X_train, y_train, epochs = 10)"
      ],
      "metadata": {
        "id": "AY09px6Z6Te-",
        "colab": {
          "base_uri": "https://localhost:8080/"
        },
        "outputId": "b8093d4d-f961-42b1-fe55-870e1659b624"
      },
      "execution_count": 25,
      "outputs": [
        {
          "output_type": "stream",
          "name": "stdout",
          "text": [
            "Epoch 1/10\n",
            "629/629 [==============================] - 19s 11ms/step - loss: 0.3932 - accuracy: 0.8593\n",
            "Epoch 2/10\n",
            "629/629 [==============================] - 6s 10ms/step - loss: 0.2021 - accuracy: 0.9316\n",
            "Epoch 3/10\n",
            "629/629 [==============================] - 6s 10ms/step - loss: 0.1542 - accuracy: 0.9466\n",
            "Epoch 4/10\n",
            "629/629 [==============================] - 6s 10ms/step - loss: 0.1258 - accuracy: 0.9567\n",
            "Epoch 5/10\n",
            "629/629 [==============================] - 6s 10ms/step - loss: 0.0992 - accuracy: 0.9650\n",
            "Epoch 6/10\n",
            "629/629 [==============================] - 6s 10ms/step - loss: 0.0891 - accuracy: 0.9699\n",
            "Epoch 7/10\n",
            "629/629 [==============================] - 6s 10ms/step - loss: 0.0758 - accuracy: 0.9725\n",
            "Epoch 8/10\n",
            "629/629 [==============================] - 6s 10ms/step - loss: 0.0682 - accuracy: 0.9751\n",
            "Epoch 9/10\n",
            "629/629 [==============================] - 6s 10ms/step - loss: 0.0563 - accuracy: 0.9795\n",
            "Epoch 10/10\n",
            "629/629 [==============================] - 7s 10ms/step - loss: 0.0511 - accuracy: 0.9823\n"
          ]
        }
      ]
    },
    {
      "cell_type": "code",
      "source": [
        "y_pred = model.predict(X_test)"
      ],
      "metadata": {
        "id": "bYb6rlKm6VJi"
      },
      "execution_count": 26,
      "outputs": []
    },
    {
      "cell_type": "code",
      "source": [
        "acc = history.history['accuracy']\n",
        "epochs = range(1, len(acc) + 1)\n",
        "plt.plot(epochs, acc, color='red', label='Training acc')\n",
        "plt.title('Training Accuracy')\n",
        "plt.xlabel('Epochs')\n",
        "plt.ylabel('Loss')\n",
        "plt.show()"
      ],
      "metadata": {
        "id": "h0gu8X2l6WEG",
        "colab": {
          "base_uri": "https://localhost:8080/",
          "height": 295
        },
        "outputId": "0e53c72c-203c-4234-9733-5e850d50394e"
      },
      "execution_count": 27,
      "outputs": [
        {
          "output_type": "display_data",
          "data": {
            "image/png": "[encoded data removed]",
            "text/plain": [
              "<Figure size 432x288 with 1 Axes>"
            ]
          },
          "metadata": {
            "needs_background": "light"
          }
        }
      ]
    },
    {
      "cell_type": "code",
      "source": [
        "from sklearn.metrics import confusion_matrix\n",
        "\n",
        "y_lbl = [np.where(i == np.max(i))[0][0] for i in y_pred]\n",
        "mat = confusion_matrix(y_test, y_lbl)\n",
        "fig, ax = plt.subplots(figsize=(7,7))\n",
        "sns.heatmap(mat, annot = True)"
      ],
      "metadata": {
        "id": "2SjG_CJW6Yvx",
        "colab": {
          "base_uri": "https://localhost:8080/",
          "height": 445
        },
        "outputId": "35983b68-e35e-45a4-b8f5-3e7a472611da"
      },
      "execution_count": 28,
      "outputs": [
        {
          "output_type": "execute_result",
          "data": {
            "text/plain": [
              "<matplotlib.axes._subplots.AxesSubplot at 0x7f892e1f9c10>"
            ]
          },
          "metadata": {},
          "execution_count": 28
        },
        {
          "output_type": "display_data",
          "data": {
            "image/png": "[encoded data removed]",
            "text/plain": [
              "<Figure size 504x504 with 2 Axes>"
            ]
          },
          "metadata": {
            "needs_background": "light"
          }
        }
      ]
    },
    {
      "cell_type": "code",
      "source": [
        "# Measure the Accuracy Score\n",
        "\n",
        "from sklearn import metrics\n",
        "\n",
        "print(\"Accuracy score of the predictions: {0} %\".format(metrics.accuracy_score(y_lbl, y_test) * 100))"
      ],
      "metadata": {
        "id": "1kH-mJ2e6bor",
        "colab": {
          "base_uri": "https://localhost:8080/"
        },
        "outputId": "e0ab6582-83be-4df4-fa64-af6f6d260fd2"
      },
      "execution_count": 29,
      "outputs": [
        {
          "output_type": "stream",
          "name": "stdout",
          "text": [
            "Accuracy score of the predictions: 96.68607254814151 %\n"
          ]
        }
      ]
    },
    {
      "cell_type": "code",
      "source": [
        "test_df.head()"
      ],
      "metadata": {
        "id": "kZVoYlHA6nI5",
        "colab": {
          "base_uri": "https://localhost:8080/",
          "height": 299
        },
        "outputId": "58a80fd7-57ba-4814-a3b9-f10612ed9fe4"
      },
      "execution_count": 30,
      "outputs": [
        {
          "output_type": "execute_result",
          "data": {
            "text/html": [
              "\n",
              "  <div id=\"df-6f8156e3-9e21-48de-bbe8-d948976ad452\">\n",
              "    <div class=\"colab-df-container\">\n",
              "      <div>\n",
              "<style scoped>\n",
              "    .dataframe tbody tr th:only-of-type {\n",
              "        vertical-align: middle;\n",
              "    }\n",
              "\n",
              "    .dataframe tbody tr th {\n",
              "        vertical-align: top;\n",
              "    }\n",
              "\n",
              "    .dataframe thead th {\n",
              "        text-align: right;\n",
              "    }\n",
              "</style>\n",
              "<table border=\"1\" class=\"dataframe\">\n",
              "  <thead>\n",
              "    <tr style=\"text-align: right;\">\n",
              "      <th></th>\n",
              "      <th>0</th>\n",
              "      <th>1</th>\n",
              "      <th>2</th>\n",
              "      <th>3</th>\n",
              "      <th>4</th>\n",
              "      <th>5</th>\n",
              "      <th>6</th>\n",
              "      <th>7</th>\n",
              "      <th>8</th>\n",
              "      <th>9</th>\n",
              "      <th>10</th>\n",
              "      <th>11</th>\n",
              "      <th>12</th>\n",
              "      <th>13</th>\n",
              "      <th>14</th>\n",
              "      <th>15</th>\n",
              "      <th>16</th>\n",
              "      <th>17</th>\n",
              "      <th>18</th>\n",
              "      <th>19</th>\n",
              "      <th>20</th>\n",
              "      <th>21</th>\n",
              "      <th>22</th>\n",
              "      <th>23</th>\n",
              "      <th>24</th>\n",
              "      <th>25</th>\n",
              "      <th>26</th>\n",
              "      <th>27</th>\n",
              "      <th>28</th>\n",
              "      <th>29</th>\n",
              "      <th>30</th>\n",
              "      <th>31</th>\n",
              "      <th>32</th>\n",
              "      <th>33</th>\n",
              "      <th>34</th>\n",
              "      <th>35</th>\n",
              "      <th>36</th>\n",
              "      <th>37</th>\n",
              "      <th>38</th>\n",
              "      <th>39</th>\n",
              "      <th>...</th>\n",
              "      <th>148</th>\n",
              "      <th>149</th>\n",
              "      <th>150</th>\n",
              "      <th>151</th>\n",
              "      <th>152</th>\n",
              "      <th>153</th>\n",
              "      <th>154</th>\n",
              "      <th>155</th>\n",
              "      <th>156</th>\n",
              "      <th>157</th>\n",
              "      <th>158</th>\n",
              "      <th>159</th>\n",
              "      <th>160</th>\n",
              "      <th>161</th>\n",
              "      <th>162</th>\n",
              "      <th>163</th>\n",
              "      <th>164</th>\n",
              "      <th>165</th>\n",
              "      <th>166</th>\n",
              "      <th>167</th>\n",
              "      <th>168</th>\n",
              "      <th>169</th>\n",
              "      <th>170</th>\n",
              "      <th>171</th>\n",
              "      <th>172</th>\n",
              "      <th>173</th>\n",
              "      <th>174</th>\n",
              "      <th>175</th>\n",
              "      <th>176</th>\n",
              "      <th>177</th>\n",
              "      <th>178</th>\n",
              "      <th>179</th>\n",
              "      <th>180</th>\n",
              "      <th>181</th>\n",
              "      <th>182</th>\n",
              "      <th>183</th>\n",
              "      <th>184</th>\n",
              "      <th>185</th>\n",
              "      <th>186</th>\n",
              "      <th>187</th>\n",
              "    </tr>\n",
              "  </thead>\n",
              "  <tbody>\n",
              "    <tr>\n",
              "      <th>0</th>\n",
              "      <td>1.000000</td>\n",
              "      <td>0.758264</td>\n",
              "      <td>0.111570</td>\n",
              "      <td>0.000000</td>\n",
              "      <td>0.080579</td>\n",
              "      <td>0.078512</td>\n",
              "      <td>0.066116</td>\n",
              "      <td>0.049587</td>\n",
              "      <td>0.047521</td>\n",
              "      <td>0.035124</td>\n",
              "      <td>0.030992</td>\n",
              "      <td>0.028926</td>\n",
              "      <td>0.035124</td>\n",
              "      <td>0.026860</td>\n",
              "      <td>0.039256</td>\n",
              "      <td>0.035124</td>\n",
              "      <td>0.043388</td>\n",
              "      <td>0.047521</td>\n",
              "      <td>0.053719</td>\n",
              "      <td>0.053719</td>\n",
              "      <td>0.070248</td>\n",
              "      <td>0.072314</td>\n",
              "      <td>0.084711</td>\n",
              "      <td>0.097107</td>\n",
              "      <td>0.121901</td>\n",
              "      <td>0.132231</td>\n",
              "      <td>0.169421</td>\n",
              "      <td>0.196281</td>\n",
              "      <td>0.214876</td>\n",
              "      <td>0.235537</td>\n",
              "      <td>0.254132</td>\n",
              "      <td>0.264463</td>\n",
              "      <td>0.285124</td>\n",
              "      <td>0.272727</td>\n",
              "      <td>0.266529</td>\n",
              "      <td>0.239669</td>\n",
              "      <td>0.214876</td>\n",
              "      <td>0.173554</td>\n",
              "      <td>0.157025</td>\n",
              "      <td>0.123967</td>\n",
              "      <td>...</td>\n",
              "      <td>0.0</td>\n",
              "      <td>0.0</td>\n",
              "      <td>0.0</td>\n",
              "      <td>0.0</td>\n",
              "      <td>0.0</td>\n",
              "      <td>0.0</td>\n",
              "      <td>0.0</td>\n",
              "      <td>0.0</td>\n",
              "      <td>0.0</td>\n",
              "      <td>0.0</td>\n",
              "      <td>0.0</td>\n",
              "      <td>0.0</td>\n",
              "      <td>0.0</td>\n",
              "      <td>0.0</td>\n",
              "      <td>0.0</td>\n",
              "      <td>0.0</td>\n",
              "      <td>0.0</td>\n",
              "      <td>0.0</td>\n",
              "      <td>0.0</td>\n",
              "      <td>0.0</td>\n",
              "      <td>0.0</td>\n",
              "      <td>0.0</td>\n",
              "      <td>0.0</td>\n",
              "      <td>0.0</td>\n",
              "      <td>0.0</td>\n",
              "      <td>0.0</td>\n",
              "      <td>0.0</td>\n",
              "      <td>0.0</td>\n",
              "      <td>0.0</td>\n",
              "      <td>0.0</td>\n",
              "      <td>0.0</td>\n",
              "      <td>0.0</td>\n",
              "      <td>0.0</td>\n",
              "      <td>0.0</td>\n",
              "      <td>0.0</td>\n",
              "      <td>0.0</td>\n",
              "      <td>0.0</td>\n",
              "      <td>0.0</td>\n",
              "      <td>0.0</td>\n",
              "      <td>0.0</td>\n",
              "    </tr>\n",
              "    <tr>\n",
              "      <th>1</th>\n",
              "      <td>0.908425</td>\n",
              "      <td>0.783883</td>\n",
              "      <td>0.531136</td>\n",
              "      <td>0.362637</td>\n",
              "      <td>0.366300</td>\n",
              "      <td>0.344322</td>\n",
              "      <td>0.333333</td>\n",
              "      <td>0.307692</td>\n",
              "      <td>0.296703</td>\n",
              "      <td>0.300366</td>\n",
              "      <td>0.304029</td>\n",
              "      <td>0.336996</td>\n",
              "      <td>0.377289</td>\n",
              "      <td>0.391941</td>\n",
              "      <td>0.439560</td>\n",
              "      <td>0.446886</td>\n",
              "      <td>0.457875</td>\n",
              "      <td>0.479853</td>\n",
              "      <td>0.512821</td>\n",
              "      <td>0.534799</td>\n",
              "      <td>0.586081</td>\n",
              "      <td>0.586081</td>\n",
              "      <td>0.604396</td>\n",
              "      <td>0.633700</td>\n",
              "      <td>0.615385</td>\n",
              "      <td>0.582418</td>\n",
              "      <td>0.564103</td>\n",
              "      <td>0.520147</td>\n",
              "      <td>0.490842</td>\n",
              "      <td>0.490842</td>\n",
              "      <td>0.468864</td>\n",
              "      <td>0.454212</td>\n",
              "      <td>0.450549</td>\n",
              "      <td>0.465201</td>\n",
              "      <td>0.450549</td>\n",
              "      <td>0.432234</td>\n",
              "      <td>0.424908</td>\n",
              "      <td>0.410256</td>\n",
              "      <td>0.391941</td>\n",
              "      <td>0.369963</td>\n",
              "      <td>...</td>\n",
              "      <td>0.0</td>\n",
              "      <td>0.0</td>\n",
              "      <td>0.0</td>\n",
              "      <td>0.0</td>\n",
              "      <td>0.0</td>\n",
              "      <td>0.0</td>\n",
              "      <td>0.0</td>\n",
              "      <td>0.0</td>\n",
              "      <td>0.0</td>\n",
              "      <td>0.0</td>\n",
              "      <td>0.0</td>\n",
              "      <td>0.0</td>\n",
              "      <td>0.0</td>\n",
              "      <td>0.0</td>\n",
              "      <td>0.0</td>\n",
              "      <td>0.0</td>\n",
              "      <td>0.0</td>\n",
              "      <td>0.0</td>\n",
              "      <td>0.0</td>\n",
              "      <td>0.0</td>\n",
              "      <td>0.0</td>\n",
              "      <td>0.0</td>\n",
              "      <td>0.0</td>\n",
              "      <td>0.0</td>\n",
              "      <td>0.0</td>\n",
              "      <td>0.0</td>\n",
              "      <td>0.0</td>\n",
              "      <td>0.0</td>\n",
              "      <td>0.0</td>\n",
              "      <td>0.0</td>\n",
              "      <td>0.0</td>\n",
              "      <td>0.0</td>\n",
              "      <td>0.0</td>\n",
              "      <td>0.0</td>\n",
              "      <td>0.0</td>\n",
              "      <td>0.0</td>\n",
              "      <td>0.0</td>\n",
              "      <td>0.0</td>\n",
              "      <td>0.0</td>\n",
              "      <td>0.0</td>\n",
              "    </tr>\n",
              "    <tr>\n",
              "      <th>2</th>\n",
              "      <td>0.730088</td>\n",
              "      <td>0.212389</td>\n",
              "      <td>0.000000</td>\n",
              "      <td>0.119469</td>\n",
              "      <td>0.101770</td>\n",
              "      <td>0.101770</td>\n",
              "      <td>0.110619</td>\n",
              "      <td>0.123894</td>\n",
              "      <td>0.115044</td>\n",
              "      <td>0.132743</td>\n",
              "      <td>0.106195</td>\n",
              "      <td>0.141593</td>\n",
              "      <td>0.128319</td>\n",
              "      <td>0.150442</td>\n",
              "      <td>0.132743</td>\n",
              "      <td>0.150442</td>\n",
              "      <td>0.132743</td>\n",
              "      <td>0.150442</td>\n",
              "      <td>0.123894</td>\n",
              "      <td>0.163717</td>\n",
              "      <td>0.137168</td>\n",
              "      <td>0.141593</td>\n",
              "      <td>0.132743</td>\n",
              "      <td>0.150442</td>\n",
              "      <td>0.128319</td>\n",
              "      <td>0.146018</td>\n",
              "      <td>0.119469</td>\n",
              "      <td>0.123894</td>\n",
              "      <td>0.101770</td>\n",
              "      <td>0.092920</td>\n",
              "      <td>0.070796</td>\n",
              "      <td>0.079646</td>\n",
              "      <td>0.066372</td>\n",
              "      <td>0.070796</td>\n",
              "      <td>0.079646</td>\n",
              "      <td>0.092920</td>\n",
              "      <td>0.088496</td>\n",
              "      <td>0.084071</td>\n",
              "      <td>0.079646</td>\n",
              "      <td>0.088496</td>\n",
              "      <td>...</td>\n",
              "      <td>0.0</td>\n",
              "      <td>0.0</td>\n",
              "      <td>0.0</td>\n",
              "      <td>0.0</td>\n",
              "      <td>0.0</td>\n",
              "      <td>0.0</td>\n",
              "      <td>0.0</td>\n",
              "      <td>0.0</td>\n",
              "      <td>0.0</td>\n",
              "      <td>0.0</td>\n",
              "      <td>0.0</td>\n",
              "      <td>0.0</td>\n",
              "      <td>0.0</td>\n",
              "      <td>0.0</td>\n",
              "      <td>0.0</td>\n",
              "      <td>0.0</td>\n",
              "      <td>0.0</td>\n",
              "      <td>0.0</td>\n",
              "      <td>0.0</td>\n",
              "      <td>0.0</td>\n",
              "      <td>0.0</td>\n",
              "      <td>0.0</td>\n",
              "      <td>0.0</td>\n",
              "      <td>0.0</td>\n",
              "      <td>0.0</td>\n",
              "      <td>0.0</td>\n",
              "      <td>0.0</td>\n",
              "      <td>0.0</td>\n",
              "      <td>0.0</td>\n",
              "      <td>0.0</td>\n",
              "      <td>0.0</td>\n",
              "      <td>0.0</td>\n",
              "      <td>0.0</td>\n",
              "      <td>0.0</td>\n",
              "      <td>0.0</td>\n",
              "      <td>0.0</td>\n",
              "      <td>0.0</td>\n",
              "      <td>0.0</td>\n",
              "      <td>0.0</td>\n",
              "      <td>0.0</td>\n",
              "    </tr>\n",
              "    <tr>\n",
              "      <th>3</th>\n",
              "      <td>1.000000</td>\n",
              "      <td>0.910417</td>\n",
              "      <td>0.681250</td>\n",
              "      <td>0.472917</td>\n",
              "      <td>0.229167</td>\n",
              "      <td>0.068750</td>\n",
              "      <td>0.000000</td>\n",
              "      <td>0.004167</td>\n",
              "      <td>0.014583</td>\n",
              "      <td>0.054167</td>\n",
              "      <td>0.102083</td>\n",
              "      <td>0.122917</td>\n",
              "      <td>0.150000</td>\n",
              "      <td>0.168750</td>\n",
              "      <td>0.172917</td>\n",
              "      <td>0.170833</td>\n",
              "      <td>0.168750</td>\n",
              "      <td>0.164583</td>\n",
              "      <td>0.156250</td>\n",
              "      <td>0.152083</td>\n",
              "      <td>0.147917</td>\n",
              "      <td>0.147917</td>\n",
              "      <td>0.145833</td>\n",
              "      <td>0.145833</td>\n",
              "      <td>0.141667</td>\n",
              "      <td>0.141667</td>\n",
              "      <td>0.147917</td>\n",
              "      <td>0.158333</td>\n",
              "      <td>0.168750</td>\n",
              "      <td>0.179167</td>\n",
              "      <td>0.191667</td>\n",
              "      <td>0.206250</td>\n",
              "      <td>0.220833</td>\n",
              "      <td>0.239583</td>\n",
              "      <td>0.258333</td>\n",
              "      <td>0.275000</td>\n",
              "      <td>0.287500</td>\n",
              "      <td>0.308333</td>\n",
              "      <td>0.320833</td>\n",
              "      <td>0.331250</td>\n",
              "      <td>...</td>\n",
              "      <td>0.0</td>\n",
              "      <td>0.0</td>\n",
              "      <td>0.0</td>\n",
              "      <td>0.0</td>\n",
              "      <td>0.0</td>\n",
              "      <td>0.0</td>\n",
              "      <td>0.0</td>\n",
              "      <td>0.0</td>\n",
              "      <td>0.0</td>\n",
              "      <td>0.0</td>\n",
              "      <td>0.0</td>\n",
              "      <td>0.0</td>\n",
              "      <td>0.0</td>\n",
              "      <td>0.0</td>\n",
              "      <td>0.0</td>\n",
              "      <td>0.0</td>\n",
              "      <td>0.0</td>\n",
              "      <td>0.0</td>\n",
              "      <td>0.0</td>\n",
              "      <td>0.0</td>\n",
              "      <td>0.0</td>\n",
              "      <td>0.0</td>\n",
              "      <td>0.0</td>\n",
              "      <td>0.0</td>\n",
              "      <td>0.0</td>\n",
              "      <td>0.0</td>\n",
              "      <td>0.0</td>\n",
              "      <td>0.0</td>\n",
              "      <td>0.0</td>\n",
              "      <td>0.0</td>\n",
              "      <td>0.0</td>\n",
              "      <td>0.0</td>\n",
              "      <td>0.0</td>\n",
              "      <td>0.0</td>\n",
              "      <td>0.0</td>\n",
              "      <td>0.0</td>\n",
              "      <td>0.0</td>\n",
              "      <td>0.0</td>\n",
              "      <td>0.0</td>\n",
              "      <td>0.0</td>\n",
              "    </tr>\n",
              "    <tr>\n",
              "      <th>4</th>\n",
              "      <td>0.570470</td>\n",
              "      <td>0.399329</td>\n",
              "      <td>0.238255</td>\n",
              "      <td>0.147651</td>\n",
              "      <td>0.000000</td>\n",
              "      <td>0.003356</td>\n",
              "      <td>0.040268</td>\n",
              "      <td>0.080537</td>\n",
              "      <td>0.070470</td>\n",
              "      <td>0.090604</td>\n",
              "      <td>0.080537</td>\n",
              "      <td>0.104027</td>\n",
              "      <td>0.093960</td>\n",
              "      <td>0.117450</td>\n",
              "      <td>0.097315</td>\n",
              "      <td>0.134228</td>\n",
              "      <td>0.124161</td>\n",
              "      <td>0.161074</td>\n",
              "      <td>0.171141</td>\n",
              "      <td>0.194631</td>\n",
              "      <td>0.204698</td>\n",
              "      <td>0.261745</td>\n",
              "      <td>0.275168</td>\n",
              "      <td>0.332215</td>\n",
              "      <td>0.345638</td>\n",
              "      <td>0.395973</td>\n",
              "      <td>0.406040</td>\n",
              "      <td>0.456376</td>\n",
              "      <td>0.446309</td>\n",
              "      <td>0.446309</td>\n",
              "      <td>0.399329</td>\n",
              "      <td>0.369128</td>\n",
              "      <td>0.308725</td>\n",
              "      <td>0.295302</td>\n",
              "      <td>0.265101</td>\n",
              "      <td>0.271812</td>\n",
              "      <td>0.258389</td>\n",
              "      <td>0.268456</td>\n",
              "      <td>0.261745</td>\n",
              "      <td>0.281879</td>\n",
              "      <td>...</td>\n",
              "      <td>0.0</td>\n",
              "      <td>0.0</td>\n",
              "      <td>0.0</td>\n",
              "      <td>0.0</td>\n",
              "      <td>0.0</td>\n",
              "      <td>0.0</td>\n",
              "      <td>0.0</td>\n",
              "      <td>0.0</td>\n",
              "      <td>0.0</td>\n",
              "      <td>0.0</td>\n",
              "      <td>0.0</td>\n",
              "      <td>0.0</td>\n",
              "      <td>0.0</td>\n",
              "      <td>0.0</td>\n",
              "      <td>0.0</td>\n",
              "      <td>0.0</td>\n",
              "      <td>0.0</td>\n",
              "      <td>0.0</td>\n",
              "      <td>0.0</td>\n",
              "      <td>0.0</td>\n",
              "      <td>0.0</td>\n",
              "      <td>0.0</td>\n",
              "      <td>0.0</td>\n",
              "      <td>0.0</td>\n",
              "      <td>0.0</td>\n",
              "      <td>0.0</td>\n",
              "      <td>0.0</td>\n",
              "      <td>0.0</td>\n",
              "      <td>0.0</td>\n",
              "      <td>0.0</td>\n",
              "      <td>0.0</td>\n",
              "      <td>0.0</td>\n",
              "      <td>0.0</td>\n",
              "      <td>0.0</td>\n",
              "      <td>0.0</td>\n",
              "      <td>0.0</td>\n",
              "      <td>0.0</td>\n",
              "      <td>0.0</td>\n",
              "      <td>0.0</td>\n",
              "      <td>0.0</td>\n",
              "    </tr>\n",
              "  </tbody>\n",
              "</table>\n",
              "<p>5 rows × 188 columns</p>\n",
              "</div>\n",
              "      <button class=\"colab-df-convert\" onclick=\"convertToInteractive('df-6f8156e3-9e21-48de-bbe8-d948976ad452')\"\n",
              "              title=\"Convert this dataframe to an interactive table.\"\n",
              "              style=\"display:none;\">\n",
              "        \n",
              "  <svg xmlns=\"http://www.w3.org/2000/svg\" height=\"24px\"viewBox=\"0 0 24 24\"\n",
              "       width=\"24px\">\n",
              "    <path d=\"M0 0h24v24H0V0z\" fill=\"none\"/>\n",
              "    <path d=\"M18.56 5.44l.94 2.06.94-2.06 2.06-.94-2.06-.94-.94-2.06-.94 2.06-2.06.94zm-11 1L8.5 8.5l.94-2.06 2.06-.94-2.06-.94L8.5 2.5l-.94 2.06-2.06.94zm10 10l.94 2.06.94-2.06 2.06-.94-2.06-.94-.94-2.06-.94 2.06-2.06.94z\"/><path d=\"M17.41 7.96l-1.37-1.37c-.4-.4-.92-.59-1.43-.59-.52 0-1.04.2-1.43.59L10.3 9.45l-7.72 7.72c-.78.78-.78 2.05 0 2.83L4 21.41c.39.39.9.59 1.41.59.51 0 1.02-.2 1.41-.59l7.78-7.78 2.81-2.81c.8-.78.8-2.07 0-2.86zM5.41 20L4 18.59l7.72-7.72 1.47 1.35L5.41 20z\"/>\n",
              "  </svg>\n",
              "      </button>\n",
              "      \n",
              "  <style>\n",
              "    .colab-df-container {\n",
              "      display:flex;\n",
              "      flex-wrap:wrap;\n",
              "      gap: 12px;\n",
              "    }\n",
              "\n",
              "    .colab-df-convert {\n",
              "      background-color: #E8F0FE;\n",
              "      border: none;\n",
              "      border-radius: 50%;\n",
              "      cursor: pointer;\n",
              "      display: none;\n",
              "      fill: #1967D2;\n",
              "      height: 32px;\n",
              "      padding: 0 0 0 0;\n",
              "      width: 32px;\n",
              "    }\n",
              "\n",
              "    .colab-df-convert:hover {\n",
              "      background-color: #E2EBFA;\n",
              "      box-shadow: 0px 1px 2px rgba(60, 64, 67, 0.3), 0px 1px 3px 1px rgba(60, 64, 67, 0.15);\n",
              "      fill: #174EA6;\n",
              "    }\n",
              "\n",
              "    [theme=dark] .colab-df-convert {\n",
              "      background-color: #3B4455;\n",
              "      fill: #D2E3FC;\n",
              "    }\n",
              "\n",
              "    [theme=dark] .colab-df-convert:hover {\n",
              "      background-color: #434B5C;\n",
              "      box-shadow: 0px 1px 3px 1px rgba(0, 0, 0, 0.15);\n",
              "      filter: drop-shadow(0px 1px 2px rgba(0, 0, 0, 0.3));\n",
              "      fill: #FFFFFF;\n",
              "    }\n",
              "  </style>\n",
              "\n",
              "      <script>\n",
              "        const buttonEl =\n",
              "          document.querySelector('#df-6f8156e3-9e21-48de-bbe8-d948976ad452 button.colab-df-convert');\n",
              "        buttonEl.style.display =\n",
              "          google.colab.kernel.accessAllowed ? 'block' : 'none';\n",
              "\n",
              "        async function convertToInteractive(key) {\n",
              "          const element = document.querySelector('#df-6f8156e3-9e21-48de-bbe8-d948976ad452');\n",
              "          const dataTable =\n",
              "            await google.colab.kernel.invokeFunction('convertToInteractive',\n",
              "                                                     [key], {});\n",
              "          if (!dataTable) return;\n",
              "\n",
              "          const docLinkHtml = 'Like what you see? Visit the ' +\n",
              "            '<a target=\"_blank\" href=https://colab.research.google.com/notebooks/data_table.ipynb>data table notebook</a>'\n",
              "            + ' to learn more about interactive tables.';\n",
              "          element.innerHTML = '';\n",
              "          dataTable['output_type'] = 'display_data';\n",
              "          await google.colab.output.renderOutput(dataTable, element);\n",
              "          const docLink = document.createElement('div');\n",
              "          docLink.innerHTML = docLinkHtml;\n",
              "          element.appendChild(docLink);\n",
              "        }\n",
              "      </script>\n",
              "    </div>\n",
              "  </div>\n",
              "  "
            ],
            "text/plain": [
              "        0         1         2         3         4    ...  183  184  185  186  187\n",
              "0  1.000000  0.758264  0.111570  0.000000  0.080579  ...  0.0  0.0  0.0  0.0  0.0\n",
              "1  0.908425  0.783883  0.531136  0.362637  0.366300  ...  0.0  0.0  0.0  0.0  0.0\n",
              "2  0.730088  0.212389  0.000000  0.119469  0.101770  ...  0.0  0.0  0.0  0.0  0.0\n",
              "3  1.000000  0.910417  0.681250  0.472917  0.229167  ...  0.0  0.0  0.0  0.0  0.0\n",
              "4  0.570470  0.399329  0.238255  0.147651  0.000000  ...  0.0  0.0  0.0  0.0  0.0\n",
              "\n",
              "[5 rows x 188 columns]"
            ]
          },
          "metadata": {},
          "execution_count": 30
        }
      ]
    },
    {
      "cell_type": "code",
      "source": [
        "sns.countplot(x=187, data = test_df)"
      ],
      "metadata": {
        "id": "shH1V0xy6oK9",
        "colab": {
          "base_uri": "https://localhost:8080/",
          "height": 296
        },
        "outputId": "d5619abd-cb96-4ec6-e28d-262c3023982e"
      },
      "execution_count": 31,
      "outputs": [
        {
          "output_type": "execute_result",
          "data": {
            "text/plain": [
              "<matplotlib.axes._subplots.AxesSubplot at 0x7f892e2309d0>"
            ]
          },
          "metadata": {},
          "execution_count": 31
        },
        {
          "output_type": "display_data",
          "data": {
            "image/png": "[encoded data removed]",
            "text/plain": [
              "<Figure size 432x288 with 1 Axes>"
            ]
          },
          "metadata": {
            "needs_background": "light"
          }
        }
      ]
    },
    {
      "cell_type": "code",
      "source": [
        "fig, ax = plt.subplots(nrows = 1, ncols = 5, figsize=(30,5))\n",
        "\n",
        "for i in range(5):\n",
        "  ax[i].plot(test_df[test_df[187]==float(i)].sample(1).iloc[0,:186])\n",
        "  ax[i].set_title('Class: '+str(i))"
      ],
      "metadata": {
        "id": "WkvMKks06qbf",
        "colab": {
          "base_uri": "https://localhost:8080/",
          "height": 254
        },
        "outputId": "e274e689-4dcd-4a25-d3e8-9cfbf896f6d9"
      },
      "execution_count": 32,
      "outputs": [
        {
          "output_type": "display_data",
          "data": {
            "image/png": "[encoded data removed]",
            "text/plain": [
              "<Figure size 2160x360 with 5 Axes>"
            ]
          },
          "metadata": {
            "needs_background": "light"
          }
        }
      ]
    },
    {
      "cell_type": "code",
      "source": [
        "test_X = test_df.drop([187], axis=1) \n",
        "test_y = test_df[187]\n",
        "\n",
        "test_X = np.array(test_X).reshape(test_X.shape[0], test_X.shape[1], 1)"
      ],
      "metadata": {
        "id": "1UP9BZxs6ski"
      },
      "execution_count": 34,
      "outputs": []
    },
    {
      "cell_type": "code",
      "source": [
        "test_pred_y = model.predict(test_X)"
      ],
      "metadata": {
        "id": "EX5QQFab6vlj"
      },
      "execution_count": 35,
      "outputs": []
    },
    {
      "cell_type": "code",
      "source": [
        "from sklearn.metrics import confusion_matrix\n",
        "\n",
        "test_lbl_y = [np.where(i == np.max(i))[0][0] for i in test_pred_y]\n",
        "mat = confusion_matrix(test_y, test_lbl_y)\n",
        "fig, ax = plt.subplots(figsize=(7,7))\n",
        "sns.heatmap(mat, annot = True)"
      ],
      "metadata": {
        "id": "1W4mm4BK6w5O",
        "colab": {
          "base_uri": "https://localhost:8080/",
          "height": 445
        },
        "outputId": "341ad9ab-d924-4c68-bfba-a02d027fce3d"
      },
      "execution_count": 36,
      "outputs": [
        {
          "output_type": "execute_result",
          "data": {
            "text/plain": [
              "<matplotlib.axes._subplots.AxesSubplot at 0x7f892dbbb610>"
            ]
          },
          "metadata": {},
          "execution_count": 36
        },
        {
          "output_type": "display_data",
          "data": {
            "image/png": "[encoded data removed]",
            "text/plain": [
              "<Figure size 504x504 with 2 Axes>"
            ]
          },
          "metadata": {
            "needs_background": "light"
          }
        }
      ]
    },
    {
      "cell_type": "code",
      "source": [
        "# Measure the Accuracy Score\n",
        "\n",
        "from sklearn import metrics\n",
        "\n",
        "print(\"Accuracy score of the predictions: {0}\".format(metrics.accuracy_score(test_lbl_y, test_y) * 100))"
      ],
      "metadata": {
        "id": "2BJ1kqve6yhy",
        "colab": {
          "base_uri": "https://localhost:8080/"
        },
        "outputId": "6955c934-c3b3-4fd6-896d-913db50ac976"
      },
      "execution_count": 37,
      "outputs": [
        {
          "output_type": "stream",
          "name": "stdout",
          "text": [
            "Accuracy score of the predictions: 96.82989219806322\n"
          ]
        }
      ]
    }
  ],
  "metadata": {
    "colab": {
      "name": "Hearbeat / Arrhythmia",
      "provenance": [],
      "collapsed_sections": [],
      "mount_file_id": "1sveLt0wiwSYqa_7WbJxqbbkbmgVqbIIa",
      "authorship_tag": "ABX9TyPMGNgE4v/5Hfvrt+pbiD1v",
      "include_colab_link": true
    },
    "kernelspec": {
      "display_name": "Python 3",
      "name": "python3"
    },
    "language_info": {
      "name": "python"
    },
    "accelerator": "GPU"
  },
  "nbformat": 4,
  "nbformat_minor": 0
}